{
 "cells": [
  {
   "cell_type": "markdown",
   "metadata": {
    "collapsed": true,
    "pycharm": {
     "name": "#%% md\n"
    }
   },
   "source": [
    "[代码地址](https://github.com/JozeeLin/ucr-suite-python/blob/master/DTW.ipynb)"
   ]
  },
  {
   "cell_type": "code",
   "execution_count": 1,
   "metadata": {
    "pycharm": {
     "name": "#%%\n"
    }
   },
   "outputs": [],
   "source": [
    "import pandas as pd\n",
    "import numpy as np\n",
    "import matplotlib.pylab as plt\n",
    "% matplotlib inline"
   ]
  },
  {
   "cell_type": "code",
   "execution_count": 2,
   "metadata": {},
   "outputs": [
    {
     "data": {
      "text/plain": [
       "<matplotlib.legend.Legend at 0x13871959160>"
      ]
     },
     "execution_count": 2,
     "metadata": {},
     "output_type": "execute_result"
    },
    {
     "data": {
      "image/png": "[encoded data removed]",
      "text/plain": [
       "<Figure size 432x288 with 1 Axes>"
      ]
     },
     "metadata": {
      "needs_background": "light"
     },
     "output_type": "display_data"
    }
   ],
   "source": [
    "x = np.linspace(0, 50, 100)\n",
    "ts1 = pd.Series(3.1 * np.sin(x / 1.5) + 3.5)\n",
    "ts2 = pd.Series(2.2 * np.sin(x / 3.5 + 2.4) + 3.2)\n",
    "ts3 = pd.Series(0.04 * x + 3.0)\n",
    "\n",
    "ts1.plot()\n",
    "ts2.plot()\n",
    "ts3.plot()\n",
    "\n",
    "plt.ylim(-2, 10)\n",
    "plt.legend(['ts1', 'ts2', 'ts3'])"
   ]
  },
  {
   "cell_type": "code",
   "execution_count": 3,
   "metadata": {},
   "outputs": [],
   "source": [
    "def euclid_dist(t1, t2):\n",
    "    return np.sqrt(np.sum((t1 - t2) ** 2))"
   ]
  },
  {
   "cell_type": "code",
   "execution_count": 7,
   "metadata": {},
   "outputs": [
    {
     "name": "stdout",
     "output_type": "stream",
     "text": [
      "euclid_dist ts1 ts2: 26.95921603796934\n",
      "euclid_dist ts1 ts3: 23.18924919031106\n"
     ]
    }
   ],
   "source": [
    "print('euclid_dist ts1 ts2:', euclid_dist(ts1, ts2))\n",
    "print('euclid_dist ts1 ts3:', euclid_dist(ts1, ts3))"
   ]
  },
  {
   "cell_type": "code",
   "execution_count": 8,
   "metadata": {},
   "outputs": [],
   "source": [
    "def DTWDistance(s1, s2):\n",
    "    DTW = {}\n",
    "    for i in range(len(s1)):\n",
    "        DTW[(i, -1)] = float('inf')  #初始化\n",
    "    for j in range(len(s2)):\n",
    "        DTW[(-1, j)] = float('inf')\n",
    "\n",
    "    DTW[(-1, -1)] = 0\n",
    "\n",
    "    for i in range(len(s1)):\n",
    "        for j in range(len(s2)):\n",
    "            dist = (s1[i] - s2[j]) ** 2\n",
    "            DTW[(i, j)] = dist + min(DTW[(i - 1, j)], DTW[(i, j - 1)], DTW[(i - 1, j - 1)])\n",
    "\n",
    "    return np.sqrt(DTW[len(s1) - 1, len(s2) - 1])"
   ]
  },
  {
   "cell_type": "code",
   "execution_count": 9,
   "metadata": {},
   "outputs": [
    {
     "name": "stdout",
     "output_type": "stream",
     "text": [
      "dtw_dist ts1 ts2: 17.929718468641138\n",
      "dtw_dist ts1 ts3: 21.549494824404572\n"
     ]
    }
   ],
   "source": [
    "print('dtw_dist ts1 ts2:', DTWDistance(ts1, ts2))\n",
    "print('dtw_dist ts1 ts3:', DTWDistance(ts1, ts3))"
   ]
  },
  {
   "cell_type": "code",
   "execution_count": 13,
   "metadata": {},
   "outputs": [],
   "source": [
    "def FastDTWDistance(s1, s2, w):\n",
    "    DTW = {}\n",
    "\n",
    "    w = max(w, abs(len(s1) - len(s2)))  #window\n",
    "\n",
    "    for i in range(-1, len(s1)):\n",
    "        for j in range(-1, len(s2)):\n",
    "            DTW[(i, j)] = float('inf')\n",
    "    DTW[(-1, -1)] = 0\n",
    "\n",
    "    for i in range(len(s1)):\n",
    "        for j in range(max(0, i - w), min(len(s2), i + w)):\n",
    "            dist = (s1[i] - s2[j]) ** 2\n",
    "            DTW[(i, j)] = dist + min(DTW[(i - 1, j)], DTW[(i, j - 1)], DTW[(i - 1, j - 1)])\n",
    "\n",
    "    return np.sqrt(DTW[len(s1) - 1, len(s2) - 1])"
   ]
  },
  {
   "cell_type": "code",
   "execution_count": 19,
   "metadata": {},
   "outputs": [
    {
     "name": "stdout",
     "output_type": "stream",
     "text": [
      "fastdtw_dist ts1 ts2: 18.59655183841726\n",
      "fastdtw_dist ts1 ts3: 22.47248284679103\n"
     ]
    }
   ],
   "source": [
    "print('fastdtw_dist ts1 ts2:', FastDTWDistance(ts1, ts2, 10))\n",
    "print('fastdtw_dist ts1 ts3:', FastDTWDistance(ts1, ts3, 10))"
   ]
  },
  {
   "cell_type": "code",
   "execution_count": 22,
   "metadata": {},
   "outputs": [],
   "source": [
    "import collections\n",
    "\n",
    "\n",
    "def FastDTWDistance2(s1, s2, w):\n",
    "    DTW = collections.defaultdict(lambda: float('inf'))\n",
    "    w = max(w, abs(len(s1) - len(s2)))  #window\n",
    "    DTW[-1, -1] = 0\n",
    "    for i in range(-1, len(s1)):\n",
    "        for j in range(-1, len(s2)):\n",
    "            DTW[(i, j)] = float('inf')\n",
    "    DTW[(-1, -1)] = 0\n",
    "\n",
    "    for i in range(len(s1)):\n",
    "        for j in range(max(0, i - w), min(len(s2), i + w)):\n",
    "            dist = (s1[i] - s2[j]) ** 2\n",
    "            DTW[(i, j)] = dist + min(DTW[(i - 1, j)], DTW[(i, j - 1)], DTW[(i - 1, j - 1)])\n",
    "\n",
    "    return np.sqrt(DTW[len(s1) - 1, len(s2) - 1])"
   ]
  },
  {
   "cell_type": "code",
   "execution_count": 23,
   "metadata": {
    "pycharm": {
     "name": "#%%\n"
    }
   },
   "outputs": [
    {
     "name": "stdout",
     "output_type": "stream",
     "text": [
      "fastdtw_dist ts1 ts2: 18.59655183841726\n",
      "fastdtw_dist ts1 ts3: 22.47248284679103\n"
     ]
    }
   ],
   "source": [
    "print('fastdtw_dist ts1 ts2:', FastDTWDistance2(ts1, ts2, 10))\n",
    "print('fastdtw_dist ts1 ts3:', FastDTWDistance2(ts1, ts3, 10))"
   ]
  },
  {
   "cell_type": "code",
   "execution_count": 24,
   "metadata": {},
   "outputs": [],
   "source": [
    "def LB_Keogh(s1, s2, r):\n",
    "    '''\n",
    "    注意：这里使用LB_KeoghEQ失效，所以使用LB_KeoghEC\n",
    "    s1:Q\n",
    "    s2:C\n",
    "    r: windows\n",
    "    '''\n",
    "\n",
    "    LB_sum = 0\n",
    "    for ind, i in enumerate(s1):\n",
    "        lower_bound = min(s2[(ind - r if ind - r >= 0 else 0):ind + r])\n",
    "        upper_bound = max(s2[(ind - r if ind - r >= 0 else 0):ind + r])\n",
    "\n",
    "        if i > upper_bound:\n",
    "            LB_sum = LB_sum + (i - upper_bound) ** 2\n",
    "        elif i < lower_bound:\n",
    "            LB_sum = LB_sum + (i - lower_bound) ** 2\n",
    "\n",
    "    return np.sqrt(LB_sum)"
   ]
  },
  {
   "cell_type": "code",
   "execution_count": 25,
   "metadata": {},
   "outputs": [
    {
     "name": "stdout",
     "output_type": "stream",
     "text": [
      "fastdtw_dist ts1 ts2: 6.253892351594148\n",
      "fastdtw_dist ts1 ts3: 19.959547869419758\n"
     ]
    }
   ],
   "source": [
    "print('LB_Keogh ts1 ts2:', LB_Keogh(ts1, ts2, 20))\n",
    "print('LB_Keogh ts1 ts3:', LB_Keogh(ts1, ts3, 20))"
   ]
  },
  {
   "cell_type": "code",
   "execution_count": 26,
   "metadata": {},
   "outputs": [
    {
     "name": "stdout",
     "output_type": "stream",
     "text": [
      "LB_Keogh ts2 ts1: 0.0\n",
      "LB_Keogh ts3 ts1: 0.0\n"
     ]
    }
   ],
   "source": [
    "#剪枝失效\n",
    "print('LB_Keogh ts2 ts1:', LB_Keogh(ts2, ts1, 20))\n",
    "print('LB_Keogh ts3 ts1:', LB_Keogh(ts3, ts1, 20))"
   ]
  },
  {
   "cell_type": "code",
   "execution_count": 27,
   "metadata": {},
   "outputs": [],
   "source": [
    "import re\n",
    "import math\n",
    "\n",
    "\n",
    "def ConvertELogStrToValue(eLogStr):\n",
    "    \"\"\"\n",
    "    convert string of natural logarithm base of E to value\n",
    "    return (convertOK, convertedValue)\n",
    "    eg:\n",
    "    input:  -1.1694737e-03\n",
    "    output: -0.001169\n",
    "    input:  8.9455025e-04\n",
    "    output: 0.000895\n",
    "    \"\"\"\n",
    "\n",
    "    (convertOK, convertedValue) = (False, 0.0)\n",
    "    foundEPower = re.search(\"(?P<coefficientPart>-?\\d+\\.\\d+)e(?P<ePowerPart>[-+]\\d+)\", eLogStr, re.I)\n",
    "    #print \"foundEPower=\",foundEPower\n",
    "    if (foundEPower):\n",
    "        coefficientPart = foundEPower.group(\"coefficientPart\")\n",
    "        ePowerPart = foundEPower.group(\"ePowerPart\")\n",
    "        #print \"coefficientPart=%s,ePower=%s\"%(coefficientPart, ePower)\n",
    "        coefficientValue = float(coefficientPart)\n",
    "        ePowerValue = float(ePowerPart)\n",
    "        #print \"coefficientValue=%f,ePowerValue=%f\"%(coefficientValue, ePowerValue)\n",
    "        #math.e= 2.71828182846\n",
    "        # wholeOrigValue = coefficientValue * math.pow(math.e, ePowerValue)\n",
    "        wholeOrigValue = coefficientValue * math.pow(10, ePowerValue)\n",
    "\n",
    "        #print \"wholeOrigValue=\",wholeOrigValue;\n",
    "\n",
    "        (convertOK, convertedValue) = (True, wholeOrigValue)\n",
    "    else:\n",
    "        (convertOK, convertedValue) = (False, 0.0)\n",
    "\n",
    "    return (convertOK, convertedValue)"
   ]
  },
  {
   "cell_type": "code",
   "execution_count": 31,
   "metadata": {},
   "outputs": [
    {
     "data": {
      "text/plain": "-0.0011694736999999999"
     },
     "execution_count": 31,
     "metadata": {},
     "output_type": "execute_result"
    }
   ],
   "source": [
    "ConvertELogStrToValue('-1.1694737e-03')[1]"
   ]
  },
  {
   "cell_type": "code",
   "execution_count": 29,
   "metadata": {},
   "outputs": [
    {
     "data": {
      "text/plain": [
       "1.1607272"
      ]
     },
     "execution_count": 29,
     "metadata": {},
     "output_type": "execute_result"
    }
   ],
   "source": [
    "ConvertELogStrToValue('1.1607272e+000')[1]"
   ]
  },
  {
   "cell_type": "code",
   "execution_count": null,
   "metadata": {},
   "outputs": [],
   "source": []
  }
 ],
 "metadata": {
  "kernelspec": {
   "display_name": "Python 3 (ipykernel)",
   "language": "python",
   "name": "python3"
  },
  "language_info": {
   "codemirror_mode": {
    "name": "ipython",
    "version": 3
   },
   "file_extension": ".py",
   "mimetype": "text/x-python",
   "name": "python",
   "nbconvert_exporter": "python",
   "pygments_lexer": "ipython3",
   "version": "3.8.12"
  }
 },
 "nbformat": 4,
 "nbformat_minor": 1
}